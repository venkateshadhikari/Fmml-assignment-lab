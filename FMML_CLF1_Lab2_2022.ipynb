{
  "nbformat": 4,
  "nbformat_minor": 0,
  "metadata": {
    "colab": {
      "provenance": [],
      "include_colab_link": true
    },
    "kernelspec": {
      "name": "python3",
      "display_name": "Python 3"
    },
    "language_info": {
      "name": "python"
    }
  },
  "cells": [
    {
      "cell_type": "markdown",
      "metadata": {
        "id": "view-in-github",
        "colab_type": "text"
      },
      "source": [
        "<a href=\"https://colab.research.google.com/github/venkateshadhikari/Fmml-assignment-lab/blob/main/FMML_CLF1_Lab2_2022.ipynb\" target=\"_parent\"><img src=\"https://colab.research.google.com/assets/colab-badge.svg\" alt=\"Open In Colab\"/></a>"
      ]
    },
    {
      "cell_type": "markdown",
      "source": [
        "# **FOUNDATIONS OF MODERN MACHINE LEARNING, IIIT Hyderabad**\n",
        "### MODULE 3: CLASSIFICATION-1\n",
        "### LAB-2 : Implementing KNN from scratch and visualize Algorithm performance \n",
        "#### Module Coordinator: Tanvi Kamble\n",
        "\n",
        "---"
      ],
      "metadata": {
        "id": "7lNmnA0_AhlE"
      }
    },
    {
      "cell_type": "markdown",
      "source": [
        "# **Section 1: Implementing KNN** "
      ],
      "metadata": {
        "id": "Q7v6N5-LBHWS"
      }
    },
    {
      "cell_type": "markdown",
      "source": [
        "In the last lab we had started discussing about KNN or K Nearest Neighbour method for clasification. We used the pre-built scikit-learn library for KNN. Now let's see how to implement this algorithm from scratch  "
      ],
      "metadata": {
        "id": "DIKaq_foFSXD"
      }
    },
    {
      "cell_type": "code",
      "metadata": {
        "id": "A7877e44n6Kd"
      },
      "source": [
        "import pandas as pd\n",
        "import numpy as np\n",
        "from sklearn.model_selection import train_test_split\n",
        "from sklearn.metrics import accuracy_score\n",
        "from sklearn import preprocessing\n",
        "from collections import Counter"
      ],
      "execution_count": 18,
      "outputs": []
    },
    {
      "cell_type": "code",
      "metadata": {
        "id": "nHzdQE_8oPM1"
      },
      "source": [
        "def predict(X_train, y_train, X_test, k):\n",
        "    distances = []\n",
        "    targets = []\n",
        "\n",
        "    for i in range(len(X_train)):\n",
        "        # compute and store L2 distance\n",
        "        distances.append([np.sqrt(np.sum(np.square(X_test - X_train[i, :]))), i])\n",
        "\n",
        "    distances = sorted(distances)\n",
        "\n",
        "    for i in range(k):\n",
        "        index = distances[i][1]\n",
        "        targets.append(y_train[index])\n",
        "\n",
        "    # return most common target\n",
        "    return Counter(targets).most_common(1)[0][0]"
      ],
      "execution_count": 19,
      "outputs": []
    },
    {
      "cell_type": "code",
      "metadata": {
        "id": "9_kulEM0oWJ-"
      },
      "source": [
        "def k_nearest_neighbor(X_train, y_train, X_test, k):\n",
        "\n",
        "    assert k <= len(X_train), \"[!] K cannot be larger than number of samples.\"\n",
        "\n",
        "    # loop over all observations\n",
        "    predictions = []\n",
        "    for i in range(len(X_test)):\n",
        "        predictions.append(predict(X_train, y_train, X_test[i, :], k))\n",
        "\n",
        "    return np.asarray(predictions)"
      ],
      "execution_count": 20,
      "outputs": []
    },
    {
      "cell_type": "markdown",
      "source": [
        "**Note** : If k = 1 then the algorithm will simply return the label of the nearest neighbour. When we give k > 1 the most common label out of the given labels in the k neighbours will be selected.The code for 1 NN is given as follows and does not have to be so complicated. "
      ],
      "metadata": {
        "id": "W_saK1gP2zd1"
      }
    },
    {
      "cell_type": "code",
      "source": [
        "def NN1(traindata, trainlabel, query):\n",
        "  diff  = traindata - query  # find the difference between features. Numpy automatically takes care of the size here \n",
        "  sq = diff*diff # square the differences\n",
        "  dist = sq.sum(1) # add up the squares\n",
        "  label = trainlabel[np.argmin(dist)] # our predicted label is the label of the training data which has the least distance from the query\n",
        "  return label"
      ],
      "metadata": {
        "id": "wa4lAr9p3Tqk"
      },
      "execution_count": 21,
      "outputs": []
    },
    {
      "cell_type": "markdown",
      "metadata": {
        "id": "1Hjf1KHs7fU5"
      },
      "source": [
        "Let us define a metric 'Accuracy' to see how good our learning algorithm is. Accuracy is the ratio of the number of correctly classified samples to the total number of samples. The higher the accuracy, the better the algorithm. "
      ]
    },
    {
      "cell_type": "code",
      "metadata": {
        "id": "ouuCqWU07bz-"
      },
      "source": [
        "def Accuracy(gtlabel, predlabel):\n",
        "  assert len(gtlabel)==len(predlabel), \"Length of the groundtruth labels and predicted labels should be the same\"\n",
        "  correct = (gtlabel==predlabel).sum() # count the number of times the groundtruth label is equal to the predicted label.\n",
        "  return correct/len(gtlabel)"
      ],
      "execution_count": 22,
      "outputs": []
    },
    {
      "cell_type": "markdown",
      "source": [
        "## Section 1.1 - Iris Dataset\n",
        "Let's try it out on Iris Dataset present in the scikit learn library"
      ],
      "metadata": {
        "id": "97MTzRbMKHfl"
      }
    },
    {
      "cell_type": "code",
      "source": [
        "from sklearn.datasets import load_iris\n",
        "\n",
        "data = load_iris()\n",
        "\n",
        "df = pd.DataFrame(data=data.data, columns=data.feature_names)\n",
        "\n",
        "df[\"target\"] = data.target\n",
        "\n",
        "df.head()"
      ],
      "metadata": {
        "colab": {
          "base_uri": "https://localhost:8080/",
          "height": 206
        },
        "id": "VJ7YJCT1KN29",
        "outputId": "a960cad4-0811-48f3-ad5f-fcb024649f6e"
      },
      "execution_count": 23,
      "outputs": [
        {
          "output_type": "execute_result",
          "data": {
            "text/plain": [
              "   sepal length (cm)  sepal width (cm)  petal length (cm)  petal width (cm)  \\\n",
              "0                5.1               3.5                1.4               0.2   \n",
              "1                4.9               3.0                1.4               0.2   \n",
              "2                4.7               3.2                1.3               0.2   \n",
              "3                4.6               3.1                1.5               0.2   \n",
              "4                5.0               3.6                1.4               0.2   \n",
              "\n",
              "   target  \n",
              "0       0  \n",
              "1       0  \n",
              "2       0  \n",
              "3       0  \n",
              "4       0  "
            ],
            "text/html": [
              "\n",
              "  <div id=\"df-c9b6bcbd-58c3-4f92-8bd0-eb5db867077d\">\n",
              "    <div class=\"colab-df-container\">\n",
              "      <div>\n",
              "<style scoped>\n",
              "    .dataframe tbody tr th:only-of-type {\n",
              "        vertical-align: middle;\n",
              "    }\n",
              "\n",
              "    .dataframe tbody tr th {\n",
              "        vertical-align: top;\n",
              "    }\n",
              "\n",
              "    .dataframe thead th {\n",
              "        text-align: right;\n",
              "    }\n",
              "</style>\n",
              "<table border=\"1\" class=\"dataframe\">\n",
              "  <thead>\n",
              "    <tr style=\"text-align: right;\">\n",
              "      <th></th>\n",
              "      <th>sepal length (cm)</th>\n",
              "      <th>sepal width (cm)</th>\n",
              "      <th>petal length (cm)</th>\n",
              "      <th>petal width (cm)</th>\n",
              "      <th>target</th>\n",
              "    </tr>\n",
              "  </thead>\n",
              "  <tbody>\n",
              "    <tr>\n",
              "      <th>0</th>\n",
              "      <td>5.1</td>\n",
              "      <td>3.5</td>\n",
              "      <td>1.4</td>\n",
              "      <td>0.2</td>\n",
              "      <td>0</td>\n",
              "    </tr>\n",
              "    <tr>\n",
              "      <th>1</th>\n",
              "      <td>4.9</td>\n",
              "      <td>3.0</td>\n",
              "      <td>1.4</td>\n",
              "      <td>0.2</td>\n",
              "      <td>0</td>\n",
              "    </tr>\n",
              "    <tr>\n",
              "      <th>2</th>\n",
              "      <td>4.7</td>\n",
              "      <td>3.2</td>\n",
              "      <td>1.3</td>\n",
              "      <td>0.2</td>\n",
              "      <td>0</td>\n",
              "    </tr>\n",
              "    <tr>\n",
              "      <th>3</th>\n",
              "      <td>4.6</td>\n",
              "      <td>3.1</td>\n",
              "      <td>1.5</td>\n",
              "      <td>0.2</td>\n",
              "      <td>0</td>\n",
              "    </tr>\n",
              "    <tr>\n",
              "      <th>4</th>\n",
              "      <td>5.0</td>\n",
              "      <td>3.6</td>\n",
              "      <td>1.4</td>\n",
              "      <td>0.2</td>\n",
              "      <td>0</td>\n",
              "    </tr>\n",
              "  </tbody>\n",
              "</table>\n",
              "</div>\n",
              "      <button class=\"colab-df-convert\" onclick=\"convertToInteractive('df-c9b6bcbd-58c3-4f92-8bd0-eb5db867077d')\"\n",
              "              title=\"Convert this dataframe to an interactive table.\"\n",
              "              style=\"display:none;\">\n",
              "        \n",
              "  <svg xmlns=\"http://www.w3.org/2000/svg\" height=\"24px\"viewBox=\"0 0 24 24\"\n",
              "       width=\"24px\">\n",
              "    <path d=\"M0 0h24v24H0V0z\" fill=\"none\"/>\n",
              "    <path d=\"M18.56 5.44l.94 2.06.94-2.06 2.06-.94-2.06-.94-.94-2.06-.94 2.06-2.06.94zm-11 1L8.5 8.5l.94-2.06 2.06-.94-2.06-.94L8.5 2.5l-.94 2.06-2.06.94zm10 10l.94 2.06.94-2.06 2.06-.94-2.06-.94-.94-2.06-.94 2.06-2.06.94z\"/><path d=\"M17.41 7.96l-1.37-1.37c-.4-.4-.92-.59-1.43-.59-.52 0-1.04.2-1.43.59L10.3 9.45l-7.72 7.72c-.78.78-.78 2.05 0 2.83L4 21.41c.39.39.9.59 1.41.59.51 0 1.02-.2 1.41-.59l7.78-7.78 2.81-2.81c.8-.78.8-2.07 0-2.86zM5.41 20L4 18.59l7.72-7.72 1.47 1.35L5.41 20z\"/>\n",
              "  </svg>\n",
              "      </button>\n",
              "      \n",
              "  <style>\n",
              "    .colab-df-container {\n",
              "      display:flex;\n",
              "      flex-wrap:wrap;\n",
              "      gap: 12px;\n",
              "    }\n",
              "\n",
              "    .colab-df-convert {\n",
              "      background-color: #E8F0FE;\n",
              "      border: none;\n",
              "      border-radius: 50%;\n",
              "      cursor: pointer;\n",
              "      display: none;\n",
              "      fill: #1967D2;\n",
              "      height: 32px;\n",
              "      padding: 0 0 0 0;\n",
              "      width: 32px;\n",
              "    }\n",
              "\n",
              "    .colab-df-convert:hover {\n",
              "      background-color: #E2EBFA;\n",
              "      box-shadow: 0px 1px 2px rgba(60, 64, 67, 0.3), 0px 1px 3px 1px rgba(60, 64, 67, 0.15);\n",
              "      fill: #174EA6;\n",
              "    }\n",
              "\n",
              "    [theme=dark] .colab-df-convert {\n",
              "      background-color: #3B4455;\n",
              "      fill: #D2E3FC;\n",
              "    }\n",
              "\n",
              "    [theme=dark] .colab-df-convert:hover {\n",
              "      background-color: #434B5C;\n",
              "      box-shadow: 0px 1px 3px 1px rgba(0, 0, 0, 0.15);\n",
              "      filter: drop-shadow(0px 1px 2px rgba(0, 0, 0, 0.3));\n",
              "      fill: #FFFFFF;\n",
              "    }\n",
              "  </style>\n",
              "\n",
              "      <script>\n",
              "        const buttonEl =\n",
              "          document.querySelector('#df-c9b6bcbd-58c3-4f92-8bd0-eb5db867077d button.colab-df-convert');\n",
              "        buttonEl.style.display =\n",
              "          google.colab.kernel.accessAllowed ? 'block' : 'none';\n",
              "\n",
              "        async function convertToInteractive(key) {\n",
              "          const element = document.querySelector('#df-c9b6bcbd-58c3-4f92-8bd0-eb5db867077d');\n",
              "          const dataTable =\n",
              "            await google.colab.kernel.invokeFunction('convertToInteractive',\n",
              "                                                     [key], {});\n",
              "          if (!dataTable) return;\n",
              "\n",
              "          const docLinkHtml = 'Like what you see? Visit the ' +\n",
              "            '<a target=\"_blank\" href=https://colab.research.google.com/notebooks/data_table.ipynb>data table notebook</a>'\n",
              "            + ' to learn more about interactive tables.';\n",
              "          element.innerHTML = '';\n",
              "          dataTable['output_type'] = 'display_data';\n",
              "          await google.colab.output.renderOutput(dataTable, element);\n",
              "          const docLink = document.createElement('div');\n",
              "          docLink.innerHTML = docLinkHtml;\n",
              "          element.appendChild(docLink);\n",
              "        }\n",
              "      </script>\n",
              "    </div>\n",
              "  </div>\n",
              "  "
            ]
          },
          "metadata": {},
          "execution_count": 23
        }
      ]
    },
    {
      "cell_type": "code",
      "source": [
        "X = np.array(df[['sepal length (cm)','sepal width (cm)','petal length (cm)','petal width (cm)']])\n",
        "y = np.array(df['target'])\n",
        "X_train, X_test, y_train, y_test = train_test_split(X, y, test_size=0.33, random_state=17)"
      ],
      "metadata": {
        "id": "r8SHprUbKtuI"
      },
      "execution_count": 24,
      "outputs": []
    },
    {
      "cell_type": "code",
      "source": [
        "# Making our predictions\n",
        "predictions = k_nearest_neighbor(X_train, y_train, X_test, 7)\n",
        "\n",
        "# evaluating accuracy\n",
        "accuracy = Accuracy(y_test, predictions)\n",
        "print(\"The accuracy of our classifier is {} %\".format(100*accuracy))"
      ],
      "metadata": {
        "colab": {
          "base_uri": "https://localhost:8080/"
        },
        "id": "SUYb80o6LHUt",
        "outputId": "d17dbc8c-982d-498c-8af4-4c59d2e6a270"
      },
      "execution_count": 25,
      "outputs": [
        {
          "output_type": "stream",
          "name": "stdout",
          "text": [
            "The accuracy of our classifier is 94.0 %\n"
          ]
        }
      ]
    },
    {
      "cell_type": "markdown",
      "metadata": {
        "id": "iwQ3qP-UXY5x"
      },
      "source": [
        "Voila! You have implemented your own version of the K-Nearest Neighbours algorithm, which works very well on the Iris Dataset. Congratulations!  \n",
        "\n",
        "Now try out the sklearn implementation and compare your results.  "
      ]
    },
    {
      "cell_type": "code",
      "metadata": {
        "colab": {
          "base_uri": "https://localhost:8080/"
        },
        "id": "c0jJj5_7dg-o",
        "outputId": "45a5b18e-501e-4f41-8424-e17fea952b52"
      },
      "source": [
        "from sklearn.neighbors import KNeighborsClassifier\n",
        "\n",
        "sklearn_knn = KNeighborsClassifier(n_neighbors=7)\n",
        "sklearn_knn.fit(X_train,y_train)\n",
        "sklearn_predictions = sklearn_knn.predict(X_test)\n",
        "accuracy = accuracy_score(y_test, sklearn_predictions)\n",
        "print(\"The accuracy of Sklearn classifier is {} %\".format(100*accuracy))"
      ],
      "execution_count": 26,
      "outputs": [
        {
          "output_type": "stream",
          "name": "stdout",
          "text": [
            "The accuracy of Sklearn classifier is 94.0 %\n"
          ]
        }
      ]
    },
    {
      "cell_type": "markdown",
      "source": [
        "##  Section 1.2: Weighted NN\n",
        "For KNN, If k is too small, the algorithm would be more sensitive to outliers. If k is too large, then the neighborhood may include too many points from other classes. We also take the label with max votes in the neighbourhood. Another choice can be that instead of giving equal weights to each of the neighbours we can give weighted points in the neighbourhood. So we weigh points by the inverse of their distance. Therefore, closer points will be given a higher priority as compared to the far off points.\n",
        "\n",
        "An easy way to implement this is by specifying the 'weights' parameter as distance when defining the sklearn KNN function. For more information go through this [site](https://scikit-learn.org/stable/modules/generated/sklearn.neighbors.KNeighborsClassifier.html)"
      ],
      "metadata": {
        "id": "8Yi2tX6h0_Ka"
      }
    },
    {
      "cell_type": "code",
      "metadata": {
        "id": "2hXZP4wXqtmK"
      },
      "source": [
        "## TASK\n",
        "## Modify the KNN function you wrote to return all the K-nearest neighbours along with their distances,\n",
        "## instead of just the output that was most common. You don't need to find out accuracy, just modify the function\n",
        "## and return the k-nearest neighbours and distances."
      ],
      "execution_count": 27,
      "outputs": []
    },
    {
      "cell_type": "code",
      "source": [
        "## ANSWER FOR 1ST TASK\n",
        "\n",
        "def predict(X_train, y_train, X_test, k):\n",
        "    distances = []\n",
        "    targets = []\n",
        "    distt=[]\n",
        "\n",
        "    for i in range(len(X_train)):\n",
        "        # compute and store L2 distance\n",
        "        distances.append([np.sqrt(np.sum(np.square(X_test - X_train[i, :]))), i])\n",
        "\n",
        "    distances = sorted(distances)\n",
        "    #print(distances)\n",
        "\n",
        "    for i in range(k):\n",
        "        index = distances[i][1]\n",
        "        dist=distances[i][0]\n",
        "        distt.append(dist)\n",
        "        targets.append(y_train[index])\n",
        "    #print(targets)\n",
        "    #print(distt)\n",
        "\n",
        "    # return most common target\n",
        "    return targets,distt\n",
        "def k_nearest_neighbor(X_train, y_train, X_test, k):\n",
        "\n",
        "    assert k <= len(X_train), \"[!] K cannot be larger than number of samples.\"\n",
        "\n",
        "    # loop over all observations\n",
        "    predictions = []\n",
        "    disttt=[]\n",
        "    for i in range(len(X_test)):\n",
        "        disttt.append(predict(X_train, y_train, X_test[i, :], k))\n",
        "\n",
        "    return np.asarray(disttt)"
      ],
      "metadata": {
        "id": "MF5lVyYXl52w"
      },
      "execution_count": 28,
      "outputs": []
    },
    {
      "cell_type": "code",
      "source": [
        "\n",
        "\n",
        "dist=k_nearest_neighbor(X_train, y_train, X_test, 9)\n",
        "print(dist)"
      ],
      "metadata": {
        "id": "XpHX-blYmvoN",
        "outputId": "2d44b387-d752-4d75-a7cc-4372218e50d4",
        "colab": {
          "base_uri": "https://localhost:8080/"
        }
      },
      "execution_count": 29,
      "outputs": [
        {
          "output_type": "stream",
          "name": "stdout",
          "text": [
            "[[[0.         0.         0.         0.         0.         0.\n",
            "   0.         0.         0.        ]\n",
            "  [0.34641016 0.38729833 0.41231056 0.45825757 0.45825757 0.46904158\n",
            "   0.47958315 0.51961524 0.51961524]]\n",
            "\n",
            " [[1.         1.         1.         2.         1.         1.\n",
            "   1.         1.         1.        ]\n",
            "  [0.2        0.24494897 0.33166248 0.43588989 0.48989795 0.5\n",
            "   0.51961524 0.54772256 0.57445626]]\n",
            "\n",
            " [[2.         2.         2.         2.         2.         2.\n",
            "   2.         2.         2.        ]\n",
            "  [0.24494897 0.36055513 0.36055513 0.37416574 0.42426407 0.57445626\n",
            "   0.57445626 0.59160798 0.6164414 ]]\n",
            "\n",
            " [[1.         1.         1.         1.         1.         1.\n",
            "   1.         1.         1.        ]\n",
            "  [0.17320508 0.2236068  0.26457513 0.36055513 0.42426407 0.51961524\n",
            "   0.55677644 0.678233   0.7       ]]\n",
            "\n",
            " [[2.         2.         2.         1.         1.         1.\n",
            "   1.         1.         2.        ]\n",
            "  [0.17320508 0.28284271 0.38729833 0.42426407 0.43588989 0.4472136\n",
            "   0.46904158 0.5        0.51961524]]\n",
            "\n",
            " [[2.         2.         1.         1.         1.         2.\n",
            "   1.         2.         2.        ]\n",
            "  [0.14142136 0.36055513 0.42426407 0.45825757 0.45825757 0.47958315\n",
            "   0.5        0.53851648 0.55677644]]\n",
            "\n",
            " [[1.         1.         1.         1.         2.         1.\n",
            "   1.         2.         2.        ]\n",
            "  [0.48989795 0.50990195 0.51961524 0.58309519 0.7        0.70710678\n",
            "   0.71414284 0.73484692 0.73484692]]\n",
            "\n",
            " [[2.         2.         2.         2.         2.         2.\n",
            "   2.         2.         2.        ]\n",
            "  [0.41231056 0.81853528 0.86023253 1.00498756 1.0198039  1.13578167\n",
            "   1.22065556 1.24096736 1.28452326]]\n",
            "\n",
            " [[1.         1.         1.         1.         1.         1.\n",
            "   1.         1.         1.        ]\n",
            "  [0.42426407 0.4472136  0.52915026 0.54772256 0.58309519 0.58309519\n",
            "   0.64031242 0.70710678 0.71414284]]\n",
            "\n",
            " [[2.         2.         2.         1.         2.         2.\n",
            "   2.         2.         1.        ]\n",
            "  [0.26457513 0.33166248 0.51961524 0.54772256 0.60827625 0.64807407\n",
            "   0.65574385 0.67082039 0.78740079]]\n",
            "\n",
            " [[2.         2.         2.         2.         2.         2.\n",
            "   2.         2.         2.        ]\n",
            "  [0.24494897 0.3        0.31622777 0.4        0.43588989 0.47958315\n",
            "   0.54772256 0.57445626 0.6244998 ]]\n",
            "\n",
            " [[0.         0.         0.         0.         0.         0.\n",
            "   0.         0.         0.        ]\n",
            "  [0.17320508 0.17320508 0.17320508 0.2        0.26457513 0.26457513\n",
            "   0.31622777 0.31622777 0.33166248]]\n",
            "\n",
            " [[1.         1.         1.         1.         1.         1.\n",
            "   1.         2.         1.        ]\n",
            "  [0.31622777 0.33166248 0.45825757 0.45825757 0.46904158 0.46904158\n",
            "   0.6244998  0.68556546 0.73484692]]\n",
            "\n",
            " [[0.         0.         0.         0.         0.         0.\n",
            "   0.         0.         0.        ]\n",
            "  [0.2236068  0.28284271 0.3        0.3        0.3        0.3\n",
            "   0.31622777 0.34641016 0.34641016]]\n",
            "\n",
            " [[2.         2.         1.         2.         2.         2.\n",
            "   2.         2.         1.        ]\n",
            "  [0.2236068  0.37416574 0.42426407 0.46904158 0.50990195 0.51961524\n",
            "   0.55677644 0.55677644 0.60827625]]\n",
            "\n",
            " [[0.         0.         0.         0.         0.         0.\n",
            "   0.         0.         0.        ]\n",
            "  [0.14142136 0.14142136 0.26457513 0.31622777 0.33166248 0.33166248\n",
            "   0.37416574 0.37416574 0.41231056]]\n",
            "\n",
            " [[0.         0.         0.         0.         0.         0.\n",
            "   0.         0.         0.        ]\n",
            "  [0.14142136 0.2        0.24494897 0.3        0.3        0.36055513\n",
            "   0.42426407 0.42426407 0.46904158]]\n",
            "\n",
            " [[2.         2.         2.         2.         2.         2.\n",
            "   2.         2.         1.        ]\n",
            "  [0.14142136 0.24494897 0.36055513 0.38729833 0.38729833 0.5\n",
            "   0.50990195 0.51961524 0.54772256]]\n",
            "\n",
            " [[2.         2.         2.         2.         2.         2.\n",
            "   2.         2.         2.        ]\n",
            "  [0.42426407 0.50990195 0.55677644 0.60827625 0.64031242 0.64807407\n",
            "   0.70710678 0.74161985 0.76157731]]\n",
            "\n",
            " [[2.         2.         2.         2.         2.         2.\n",
            "   2.         2.         2.        ]\n",
            "  [0.1        0.3        0.42426407 0.43588989 0.46904158 0.5\n",
            "   0.50990195 0.50990195 0.6       ]]\n",
            "\n",
            " [[1.         1.         2.         1.         2.         1.\n",
            "   2.         1.         2.        ]\n",
            "  [0.33166248 0.36055513 0.37416574 0.46904158 0.46904158 0.5\n",
            "   0.50990195 0.53851648 0.55677644]]\n",
            "\n",
            " [[0.         0.         0.         0.         0.         0.\n",
            "   0.         0.         0.        ]\n",
            "  [0.14142136 0.14142136 0.17320508 0.2236068  0.2236068  0.26457513\n",
            "   0.28284271 0.3        0.33166248]]\n",
            "\n",
            " [[2.         2.         1.         2.         2.         1.\n",
            "   2.         2.         2.        ]\n",
            "  [0.31622777 0.33166248 0.37416574 0.45825757 0.53851648 0.60827625\n",
            "   0.6244998  0.64031242 0.64031242]]\n",
            "\n",
            " [[1.         1.         1.         1.         1.         1.\n",
            "   1.         1.         1.        ]\n",
            "  [0.3        0.41231056 0.43588989 0.51961524 0.52915026 0.53851648\n",
            "   0.53851648 0.57445626 0.76811457]]\n",
            "\n",
            " [[1.         1.         1.         1.         1.         1.\n",
            "   2.         2.         1.        ]\n",
            "  [0.42426407 0.4472136  0.46904158 0.51961524 0.51961524 0.55677644\n",
            "   0.58309519 0.67082039 0.76157731]]\n",
            "\n",
            " [[1.         1.         1.         1.         2.         1.\n",
            "   1.         1.         1.        ]\n",
            "  [0.37416574 0.45825757 0.46904158 0.51961524 0.53851648 0.58309519\n",
            "   0.73484692 0.75498344 0.79372539]]\n",
            "\n",
            " [[1.         1.         1.         1.         1.         1.\n",
            "   1.         1.         1.        ]\n",
            "  [0.45825757 0.50990195 0.51961524 0.51961524 0.59160798 0.68556546\n",
            "   0.71414284 0.72801099 0.82462113]]\n",
            "\n",
            " [[1.         1.         1.         1.         1.         1.\n",
            "   1.         1.         1.        ]\n",
            "  [0.2236068  0.3        0.50990195 0.50990195 0.51961524 0.52915026\n",
            "   0.58309519 0.6164414  0.6244998 ]]\n",
            "\n",
            " [[0.         0.         0.         0.         0.         0.\n",
            "   0.         0.         0.        ]\n",
            "  [0.1        0.14142136 0.14142136 0.14142136 0.17320508 0.17320508\n",
            "   0.2236068  0.3        0.31622777]]\n",
            "\n",
            " [[1.         1.         1.         1.         1.         1.\n",
            "   1.         1.         1.        ]\n",
            "  [0.14142136 0.31622777 0.46904158 0.48989795 0.5        0.54772256\n",
            "   0.54772256 0.54772256 0.64807407]]\n",
            "\n",
            " [[0.         0.         0.         0.         0.         0.\n",
            "   0.         0.         0.        ]\n",
            "  [0.14142136 0.17320508 0.2236068  0.3        0.31622777 0.31622777\n",
            "   0.31622777 0.34641016 0.36055513]]\n",
            "\n",
            " [[1.         1.         1.         1.         1.         1.\n",
            "   1.         1.         1.        ]\n",
            "  [0.38729833 0.38729833 0.72111026 0.79372539 0.9        0.97467943\n",
            "   1.161895   1.32287566 1.33041347]]\n",
            "\n",
            " [[0.         0.         0.         0.         0.         0.\n",
            "   0.         0.         0.        ]\n",
            "  [0.14142136 0.26457513 0.26457513 0.3        0.31622777 0.33166248\n",
            "   0.34641016 0.36055513 0.38729833]]\n",
            "\n",
            " [[0.         0.         0.         0.         0.         0.\n",
            "   0.         0.         0.        ]\n",
            "  [0.33166248 0.34641016 0.37416574 0.38729833 0.41231056 0.45825757\n",
            "   0.47958315 0.52915026 0.53851648]]\n",
            "\n",
            " [[1.         1.         1.         1.         1.         1.\n",
            "   1.         1.         1.        ]\n",
            "  [0.34641016 0.50990195 0.6        0.6164414  0.6164414  0.64807407\n",
            "   0.66332496 0.67082039 0.72111026]]\n",
            "\n",
            " [[1.         1.         1.         1.         1.         1.\n",
            "   1.         1.         1.        ]\n",
            "  [0.2        0.34641016 0.38729833 0.42426407 0.45825757 0.47958315\n",
            "   0.5        0.55677644 0.60827625]]\n",
            "\n",
            " [[1.         1.         1.         1.         1.         1.\n",
            "   1.         1.         1.        ]\n",
            "  [0.17320508 0.2236068  0.3        0.38729833 0.42426407 0.58309519\n",
            "   0.60827625 0.6244998  0.64807407]]\n",
            "\n",
            " [[2.         2.         2.         2.         2.         2.\n",
            "   2.         2.         2.        ]\n",
            "  [0.34641016 0.38729833 0.43588989 0.46904158 0.64807407 0.65574385\n",
            "   0.66332496 0.74161985 0.74161985]]\n",
            "\n",
            " [[1.         1.         1.         1.         1.         1.\n",
            "   1.         1.         1.        ]\n",
            "  [0.34641016 0.4        0.43588989 0.54772256 0.54772256 0.64031242\n",
            "   0.64807407 0.67082039 0.678233  ]]\n",
            "\n",
            " [[0.         0.         0.         0.         0.         0.\n",
            "   0.         0.         0.        ]\n",
            "  [0.14142136 0.14142136 0.17320508 0.2        0.2        0.24494897\n",
            "   0.3        0.3        0.31622777]]\n",
            "\n",
            " [[1.         1.         1.         1.         1.         1.\n",
            "   1.         1.         1.        ]\n",
            "  [0.17320508 0.33166248 0.36055513 0.43588989 0.48989795 0.6\n",
            "   0.6244998  0.678233   0.68556546]]\n",
            "\n",
            " [[1.         1.         1.         1.         1.         1.\n",
            "   1.         1.         1.        ]\n",
            "  [0.14142136 0.24494897 0.26457513 0.31622777 0.31622777 0.48989795\n",
            "   0.53851648 0.53851648 0.55677644]]\n",
            "\n",
            " [[0.         0.         0.         0.         0.         0.\n",
            "   0.         0.         0.        ]\n",
            "  [0.1        0.2236068  0.24494897 0.28284271 0.31622777 0.33166248\n",
            "   0.34641016 0.36055513 0.37416574]]\n",
            "\n",
            " [[1.         1.         1.         1.         1.         1.\n",
            "   1.         1.         1.        ]\n",
            "  [0.28284271 0.37416574 0.46904158 0.47958315 0.54772256 0.6\n",
            "   0.6164414  0.64807407 0.72801099]]\n",
            "\n",
            " [[2.         2.         2.         2.         2.         2.\n",
            "   2.         2.         2.        ]\n",
            "  [0.17320508 0.34641016 0.36055513 0.37416574 0.43588989 0.43588989\n",
            "   0.45825757 0.46904158 0.48989795]]\n",
            "\n",
            " [[1.         1.         1.         1.         1.         1.\n",
            "   1.         1.         1.        ]\n",
            "  [0.3        0.38729833 0.38729833 0.42426407 0.51961524 0.57445626\n",
            "   0.6244998  0.65574385 0.7       ]]\n",
            "\n",
            " [[2.         1.         1.         1.         2.         2.\n",
            "   1.         2.         1.        ]\n",
            "  [0.2236068  0.46904158 0.52915026 0.54772256 0.54772256 0.6\n",
            "   0.6244998  0.64807407 0.65574385]]\n",
            "\n",
            " [[2.         2.         1.         2.         2.         2.\n",
            "   2.         2.         2.        ]\n",
            "  [0.         0.31622777 0.36055513 0.47958315 0.50990195 0.54772256\n",
            "   0.54772256 0.63245553 0.678233  ]]\n",
            "\n",
            " [[1.         1.         1.         1.         1.         1.\n",
            "   1.         1.         1.        ]\n",
            "  [0.28284271 0.31622777 0.31622777 0.33166248 0.34641016 0.37416574\n",
            "   0.37416574 0.37416574 0.45825757]]\n",
            "\n",
            " [[0.         0.         0.         0.         0.         0.\n",
            "   0.         0.         0.        ]\n",
            "  [0.2        0.26457513 0.37416574 0.38729833 0.38729833 0.41231056\n",
            "   0.42426407 0.43588989 0.43588989]]]\n"
          ]
        }
      ]
    },
    {
      "cell_type": "markdown",
      "metadata": {
        "id": "SxcBnLl8GHWz"
      },
      "source": [
        "# **Section 2: Visualizing Data**  \n",
        "\n",
        "We will look into something called **Voronoi** diagrams.  \n",
        "\n",
        "**Note**: Ideally, we should perform data visualization to see what the data looks like before we apply any Machine Learning algorithm.  Only for the purpose of this lab session, we're explaining it after you've applied KNN."
      ]
    },
    {
      "cell_type": "markdown",
      "metadata": {
        "id": "4aDsDfmXG79k"
      },
      "source": [
        "### Voronoi Diagrams  \n",
        "\n",
        "In simple terms, Voronoi diagrams help you to visualize the dataset by partioning the plane into regions that are close to a given set of points. These regions are also called Voronoi cells.  \n",
        "\n",
        "Note that the cells/regions depend on the Distance metric being used. One way of interpreting this is by understanding that the distance metric decides the degree to which a 'point' or 'seed' in the Voronoi diagram has influence.  For each seed there is a corresponding region, called a Voronoi cell, consisting of all points of the plane closer to that seed than to any other. \n",
        "\n",
        "This [link](https://en.wikipedia.org/wiki/Voronoi_diagram#Illustration) provides a wonderful illustration of Voronoi plots for 20 points in two cases: (1) Using Euclidean distance, and (2) Using Manhattan distance.  \n",
        "\n"
      ]
    },
    {
      "cell_type": "markdown",
      "metadata": {
        "id": "AdcdjthOKwra"
      },
      "source": [
        "Since our Iris data is 4-dimensional (as it has 4 attributes), we need to convert into a form that can be represented in 2-D.   \n",
        "\n",
        "While there are methods to visualize data higher than 2-dimensions, that is beyond scope for now.  \n",
        "\n",
        "For simplicity, we just take the first two columns of the iris dataset attributes and observe the Voronoi diagram generated for that.  \n",
        "Alternatively, one can also perform PCA (Principal Component Analysis), to reduce the 4D data to just two dimensions."
      ]
    },
    {
      "cell_type": "code",
      "metadata": {
        "id": "ZNOPcS3f7sZg"
      },
      "source": [
        "#@title Plotting Voronoi regions\n",
        "import matplotlib.pyplot as plt\n",
        "from scipy.spatial import Voronoi, voronoi_plot_2d\n",
        "\n",
        "def voronoi_finite_polygons_2d(vor, radius=None):\n",
        "    \"\"\"\n",
        "    Reconstruct infinite voronoi regions in a 2D diagram to finite\n",
        "    regions.\n",
        "\n",
        "    Parameters\n",
        "    ----------\n",
        "    vor : Voronoi\n",
        "        Input diagram\n",
        "    radius : float, optional\n",
        "        Distance to 'points at infinity'.\n",
        "\n",
        "    Returns\n",
        "    -------\n",
        "    regions : list of tuples\n",
        "        Indices of vertices in each revised Voronoi regions.\n",
        "    vertices : list of tuples\n",
        "        Coordinates for revised Voronoi vertices. Same as coordinates\n",
        "        of input vertices, with 'points at infinity' appended to the\n",
        "        end.\n",
        "\n",
        "    \"\"\"\n",
        "\n",
        "    if vor.points.shape[1] != 2:\n",
        "        raise ValueError(\"Requires 2D input\")\n",
        "\n",
        "    new_regions = []\n",
        "    new_vertices = vor.vertices.tolist()\n",
        "\n",
        "    center = vor.points.mean(axis=0)\n",
        "    if radius is None:\n",
        "        radius = vor.points.ptp().max()\n",
        "\n",
        "    # Construct a map containing all ridges for a given point\n",
        "    all_ridges = {}\n",
        "    for (p1, p2), (v1, v2) in zip(vor.ridge_points, vor.ridge_vertices):\n",
        "        all_ridges.setdefault(p1, []).append((p2, v1, v2))\n",
        "        all_ridges.setdefault(p2, []).append((p1, v1, v2))\n",
        "\n",
        "    # Reconstruct infinite regions\n",
        "    for p1, region in enumerate(vor.point_region):\n",
        "        vertices = vor.regions[region]\n",
        "\n",
        "        if all(v >= 0 for v in vertices):\n",
        "            # finite region\n",
        "            new_regions.append(vertices)\n",
        "            continue\n",
        "\n",
        "        # reconstruct a non-finite region\n",
        "        ridges = all_ridges[p1]\n",
        "        new_region = [v for v in vertices if v >= 0]\n",
        "\n",
        "        for p2, v1, v2 in ridges:\n",
        "            if v2 < 0:\n",
        "                v1, v2 = v2, v1\n",
        "            if v1 >= 0:\n",
        "                # finite ridge: already in the region\n",
        "                continue\n",
        "\n",
        "            # Compute the missing endpoint of an infinite ridge\n",
        "\n",
        "            t = vor.points[p2] - vor.points[p1] # tangent\n",
        "            t /= np.linalg.norm(t)\n",
        "            n = np.array([-t[1], t[0]])  # normal\n",
        "\n",
        "            midpoint = vor.points[[p1, p2]].mean(axis=0)\n",
        "            direction = np.sign(np.dot(midpoint - center, n)) * n\n",
        "            far_point = vor.vertices[v2] + direction * radius\n",
        "\n",
        "            new_region.append(len(new_vertices))\n",
        "            new_vertices.append(far_point.tolist())\n",
        "\n",
        "        # sort region counterclockwise\n",
        "        vs = np.asarray([new_vertices[v] for v in new_region])\n",
        "        c = vs.mean(axis=0)\n",
        "        angles = np.arctan2(vs[:,1] - c[1], vs[:,0] - c[0])\n",
        "        new_region = np.array(new_region)[np.argsort(angles)]\n",
        "\n",
        "        # finish\n",
        "        new_regions.append(new_region.tolist())\n",
        "\n",
        "    return new_regions, np.asarray(new_vertices)"
      ],
      "execution_count": 30,
      "outputs": []
    },
    {
      "cell_type": "code",
      "metadata": {
        "colab": {
          "base_uri": "https://localhost:8080/",
          "height": 269
        },
        "id": "9NIVhxz8KvG3",
        "outputId": "0c50493d-cd00-4e13-d125-5d18459f2cbe"
      },
      "source": [
        "## Plotting Voronoi regions for the Iris dataset\n",
        "\n",
        "points = []\n",
        "xpts = np.array(df['sepal length (cm)'])\n",
        "ypts = np.array(df['sepal width (cm)'])\n",
        "for i in range(len(xpts)):\n",
        "  points.append([xpts[i],ypts[i]])\n",
        "# print(points)\n",
        "points = np.array(points)\n",
        "# compute Voronoi tesselation\n",
        "vor = Voronoi(points)\n",
        "\n",
        "regions, vertices = voronoi_finite_polygons_2d(vor)\n",
        "\n",
        "for region in regions:\n",
        "    polygon = vertices[region]\n",
        "    plt.fill(*zip(*polygon), alpha=0.4)\n",
        "\n",
        "plt.plot(points[:,0], points[:,1], 'ko')\n",
        "plt.xlim(vor.min_bound[0] - 0.1, vor.max_bound[0] + 0.1)\n",
        "plt.ylim(vor.min_bound[1] - 0.1, vor.max_bound[1] + 0.1)\n",
        "\n",
        "plt.show()"
      ],
      "execution_count": 31,
      "outputs": [
        {
          "output_type": "display_data",
          "data": {
            "text/plain": [
              "<Figure size 432x288 with 1 Axes>"
            ],
            "image/png": "[encoded data removed]"
          },
          "metadata": {
            "needs_background": "light"
          }
        }
      ]
    },
    {
      "cell_type": "markdown",
      "metadata": {
        "id": "WSK-GI0Knurk"
      },
      "source": [
        "## Section 2.2: Understanding Decision Boundaries  \n",
        "So you have seen the Voronoi diagram of the dataset, implemented KNN, and also seen your algorithm's performance in terms of accuracy? Impressive!  \n",
        "Wouldn't it also be great to know how exactly these 'votes' or neighbours are decided through some kind of visualization?  \n"
      ]
    },
    {
      "cell_type": "code",
      "source": [
        "from sklearn.datasets import make_blobs\n",
        "from sklearn import datasets\n",
        "class PCA:\n",
        "  def __init__(self, n_components):\n",
        "    self.n_components = n_components\n",
        "    self.components = None\n",
        "    self.mean = None\n",
        "\n",
        "  def fit(self, X):\n",
        "    self.mean = np.mean(X, axis=0)\n",
        "    X = X - self.mean\n",
        "    cov = np.cov(X.T)\n",
        "\n",
        "    evalue, evector = np.linalg.eig(cov)\n",
        "\n",
        "    eigenvectors = evector.T\n",
        "    idxs = np.argsort(evalue)[::-1]\n",
        "    \n",
        "    evalue = evalue[idxs]\n",
        "    evector = evector[idxs]\n",
        "    self.components = evector[0:self.n_components]\n",
        "\n",
        "  def transform(self, X):\n",
        "    #project data\n",
        "    X = X - self.mean\n",
        "    return(np.dot(X, self.components.T))\n",
        "\n",
        "data = datasets.load_iris()\n",
        "X = data.data\n",
        "y = data.target\n",
        "\n",
        "pca = PCA(2)\n",
        "pca.fit(X)\n",
        "X_projected = pca.transform(X)\n",
        "\n",
        "\n",
        "\n",
        "x1 = X_projected[:,0]\n",
        "x2 = X_projected[:,1]\n",
        "\n",
        "plt.scatter(x1,x2,c=y,edgecolor='none',alpha=0.8,cmap=plt.cm.get_cmap('viridis',3))\n",
        "plt.xlabel('Principal Component 1')\n",
        "plt.ylabel('Principal Component 2')\n",
        "plt.colorbar()\n",
        "plt.show()"
      ],
      "metadata": {
        "id": "PqL6Bl5pnHpB",
        "outputId": "9982bfbd-c987-4af8-afbc-bc08a47943c7",
        "colab": {
          "base_uri": "https://localhost:8080/",
          "height": 283
        }
      },
      "execution_count": 32,
      "outputs": [
        {
          "output_type": "display_data",
          "data": {
            "text/plain": [
              "<Figure size 432x288 with 2 Axes>"
            ],
            "image/png": "[encoded data removed]"
          },
          "metadata": {
            "needs_background": "light"
          }
        }
      ]
    },
    {
      "cell_type": "markdown",
      "metadata": {
        "id": "ytP_AImALiZX"
      },
      "source": [
        "### Decision Boundary\n",
        "\n",
        "While the Voronoi diagram gave us a good idea of the points present in our dataset, to understand how KNN performed on our dataset we can plot decision boundaries. Decision boundaries, as the name suggests, divide the plane into different regions of classification.  \n",
        "\n",
        "Note that here again, for simplicity, we have only considered first two attributes of the DataFrame (ie, Sepal Length and Sepal Width).  "
      ]
    },
    {
      "cell_type": "code",
      "source": [
        "\n",
        "x_pts = X[:,:2]\n",
        "y_pts = y\n",
        "decision_boundary_plot(x_pts,y_pts,7)"
      ],
      "metadata": {
        "id": "aLgZxcODnQsO",
        "outputId": "5541a584-644d-4789-b06c-71da11c16c80",
        "colab": {
          "base_uri": "https://localhost:8080/",
          "height": 201
        }
      },
      "execution_count": 33,
      "outputs": [
        {
          "output_type": "error",
          "ename": "NameError",
          "evalue": "ignored",
          "traceback": [
            "\u001b[0;31m---------------------------------------------------------------------------\u001b[0m",
            "\u001b[0;31mNameError\u001b[0m                                 Traceback (most recent call last)",
            "\u001b[0;32m<ipython-input-33-224f3825b4fa>\u001b[0m in \u001b[0;36m<module>\u001b[0;34m\u001b[0m\n\u001b[1;32m      1\u001b[0m \u001b[0mx_pts\u001b[0m \u001b[0;34m=\u001b[0m \u001b[0mX\u001b[0m\u001b[0;34m[\u001b[0m\u001b[0;34m:\u001b[0m\u001b[0;34m,\u001b[0m\u001b[0;34m:\u001b[0m\u001b[0;36m2\u001b[0m\u001b[0;34m]\u001b[0m\u001b[0;34m\u001b[0m\u001b[0;34m\u001b[0m\u001b[0m\n\u001b[1;32m      2\u001b[0m \u001b[0my_pts\u001b[0m \u001b[0;34m=\u001b[0m \u001b[0my\u001b[0m\u001b[0;34m\u001b[0m\u001b[0;34m\u001b[0m\u001b[0m\n\u001b[0;32m----> 3\u001b[0;31m \u001b[0mdecision_boundary_plot\u001b[0m\u001b[0;34m(\u001b[0m\u001b[0mx_pts\u001b[0m\u001b[0;34m,\u001b[0m\u001b[0my_pts\u001b[0m\u001b[0;34m,\u001b[0m\u001b[0;36m7\u001b[0m\u001b[0;34m)\u001b[0m\u001b[0;34m\u001b[0m\u001b[0;34m\u001b[0m\u001b[0m\n\u001b[0m",
            "\u001b[0;31mNameError\u001b[0m: name 'decision_boundary_plot' is not defined"
          ]
        }
      ]
    },
    {
      "cell_type": "code",
      "metadata": {
        "id": "8P8Pqav4DI4N"
      },
      "source": [
        "from matplotlib.colors import ListedColormap\n",
        "import seaborn as sns\n",
        "\n",
        "\n",
        "def decision_boundary_plot(x_dec,y_dec,k):\n",
        "  h = .02  # step size in the mesh\n",
        "\n",
        "  # Create color maps\n",
        "  n = len(set(y_dec))\n",
        "  cmap_light = ListedColormap(['pink', 'green', 'cyan','yellow'][:n])\n",
        "  cmap_bold = ['pink', 'darkgreen', 'blue','yellow'][:n]\n",
        "\n",
        "  for weights in ['uniform', 'distance']:\n",
        "      # we create an instance of Neighbours Classifier and fit the data.\n",
        "      clf = KNeighborsClassifier(n_neighbors=k, weights=weights)\n",
        "      clf.fit(x_dec, y_dec)\n",
        "\n",
        "      # Plot the decision boundary. For that, we will assign a color to each\n",
        "      # point in the mesh [x_min, x_max]x[y_min, y_max].\n",
        "      x_min, x_max = x_dec[:, 0].min() - 1, x_dec[:, 0].max() + 1\n",
        "      y_min, y_max = x_dec[:, 1].min() - 1, x_dec[:, 1].max() + 1\n",
        "      xx, yy = np.meshgrid(np.arange(x_min, x_max, h),\n",
        "                          np.arange(y_min, y_max, h))\n",
        "      Z = clf.predict(np.c_[xx.ravel(), yy.ravel()])\n",
        "\n",
        "      # Put the result into a color plot\n",
        "      Z = Z.reshape(xx.shape)\n",
        "      plt.figure(figsize=(8, 6))\n",
        "      plt.contourf(xx, yy, Z, cmap=cmap_light)\n",
        "\n",
        "      # Plot also the training points\n",
        "      sns.scatterplot(x=x_dec[:, 0], y=x_dec[:, 1], hue=y_dec,\n",
        "                      palette=cmap_bold, alpha=1.0, edgecolor=\"black\")\n",
        "      plt.xlim(xx.min(), xx.max())\n",
        "      plt.ylim(yy.min(), yy.max())\n",
        "      plt.title(\"Multi-Classification (k = %i, weights = '%s')\"% (k, weights))\n",
        "\n",
        "  plt.show()\n"
      ],
      "execution_count": null,
      "outputs": []
    },
    {
      "cell_type": "code",
      "metadata": {
        "id": "bgAO62vWKPHt"
      },
      "source": [
        "x_pts = X[:,:2]\n",
        "y_pts = y\n",
        "decision_boundary_plot(x_pts,y_pts,7)"
      ],
      "execution_count": null,
      "outputs": []
    },
    {
      "cell_type": "code",
      "metadata": {
        "id": "TFRJidIgr6gt"
      },
      "source": [
        "## TASK-2\n",
        "## In the above cells, we saw the Voronoi diagram of the data and plotted the KNN decision boundaries\n",
        "## by only considering two attributes of the dataset. You must be already familiar with PCA.\n",
        "## Apply PCA on the dataset above to reduce it to two dimensions. \n",
        "## Plot the Voronoi diagram and Decision boundaries after that."
      ],
      "execution_count": null,
      "outputs": []
    },
    {
      "cell_type": "code",
      "source": [
        "## ANSWER FOR 2ND TASK\n",
        "\n",
        "def decision_boundary_plot(x_dec,y_dec,k):\n",
        "  h = .02  # step size in the mesh\n",
        "\n",
        "  # Create color maps\n",
        "  n = len(set(y_dec))\n",
        "  cmap_light = ListedColormap(['pink', 'green', 'cyan','yellow'][:n])\n",
        "  cmap_bold = ['pink', 'darkgreen', 'blue','yellow'][:n]\n",
        "\n",
        "  for weights in ['uniform', 'distance']:\n",
        "      # we create an instance of Neighbours Classifier and fit the data.\n",
        "      clf = KNeighborsClassifier(n_neighbors=k, weights=weights)\n",
        "      clf.fit(x_dec, y_dec)\n",
        "\n",
        "      # Plot the decision boundary. For that, we will assign a color to each\n",
        "      # point in the mesh [x_min, x_max]x[y_min, y_max].\n",
        "      x_min, x_max = x_dec[:, 0].min() - 1, x_dec[:, 0].max() + 1\n",
        "      y_min, y_max = x_dec[:, 1].min() - 1, x_dec[:, 1].max() + 1\n",
        "      xx, yy = np.meshgrid(np.arange(x_min, x_max, h),\n",
        "                          np.arange(y_min, y_max, h))\n",
        "      Z = clf.predict(np.c_[xx.ravel(), yy.ravel()])\n",
        "\n",
        "      # Put the result into a color plot\n",
        "      Z = Z.reshape(xx.shape)\n",
        "      plt.figure(figsize=(8, 6))\n",
        "      plt.contourf(xx, yy, Z, cmap=cmap_light)\n",
        "\n",
        "      # Plot also the training points\n",
        "      sns.scatterplot(x=x_dec[:, 0], y=x_dec[:, 1], hue=y_dec,\n",
        "                      palette=cmap_bold, alpha=1.0, edgecolor=\"black\")\n",
        "      plt.xlim(xx.min(), xx.max())\n",
        "      plt.ylim(yy.min(), yy.max())\n",
        "      plt.title(\"Multi-Classification (k = %i, weights = '%s')\"% (k, weights))\n",
        "\n",
        "  plt.show()"
      ],
      "metadata": {
        "id": "9InF7IelnetZ"
      },
      "execution_count": null,
      "outputs": []
    },
    {
      "cell_type": "markdown",
      "metadata": {
        "id": "gti-Jgu_VBDl"
      },
      "source": [
        "## Section 2.3: Confusion Matrix  \n",
        "In classification problems, a confusion matrix, also known as an error matrix, is a table that allows visualization of the performance of an algorithm, typically a supervised learning one. Each row of the matrix represents the instances in an actual class while each column represents the instances in a predicted class."
      ]
    },
    {
      "cell_type": "code",
      "metadata": {
        "id": "LPfc8YFBA8Oh"
      },
      "source": [
        "from sklearn.metrics import confusion_matrix"
      ],
      "execution_count": null,
      "outputs": []
    },
    {
      "cell_type": "code",
      "metadata": {
        "id": "XMXIM9apA99s"
      },
      "source": [
        "# print(confusion_matrix(y_test,predictions))\n",
        "pd.crosstab(y_test, predictions, rownames=['True'], colnames=['Predicted'], margins=True)"
      ],
      "execution_count": null,
      "outputs": []
    },
    {
      "cell_type": "code",
      "metadata": {
        "id": "5cgYG0E5UHdy"
      },
      "source": [
        "from sklearn import metrics\n",
        "\n",
        "cnf_matrix = metrics.confusion_matrix(y_test, predictions)\n",
        "p = sns.heatmap(pd.DataFrame(cnf_matrix), annot=True, cmap=\"viridis\" ,fmt='g')\n",
        "plt.title('Confusion matrix', y=1.1)\n",
        "plt.ylabel('Actual label')\n",
        "plt.xlabel('Predicted label')"
      ],
      "execution_count": null,
      "outputs": []
    },
    {
      "cell_type": "markdown",
      "metadata": {
        "id": "TTPQOPStVtmI"
      },
      "source": [
        "## Section 2.4: Classification Report\n",
        "\n",
        "Precision, Recall, and F1-Score are other metrics besides accuracy that one might look for in an algorithm.  Depending on the use-case, one might consider one metric more important than the other.  \n",
        "\n",
        "Note: *T-> True, F->False, P->Positive, N->Negative*\n",
        "    \n",
        "Mathematically, Accuracy is :  \n",
        "\n",
        "$Accuracy = \\frac{TP+TN}{TP+TN+FP+FN}$  \n",
        "\n",
        "**Precision**: The accuracy of positive predictions\n",
        "\n",
        "\n",
        "$Precision = \\frac{TP}{TP+FP}$ \n",
        "\n",
        "**Recall**:Fraction of positives that were correctly identified\n",
        "\n",
        "\n",
        "$Recall = \\frac{TP}{TP+FN}$\n",
        "\n",
        "\n",
        "**F1-score**: Harmonic mean of precision and recall  \n",
        "\n",
        "\n",
        "$F1 = \\frac{2*Precision*Recall}{Precision+Recall} = \\frac{2*TP}{2*TP+FP+FN}$  \n",
        "\n"
      ]
    },
    {
      "cell_type": "code",
      "metadata": {
        "id": "VH3KEfEYW190"
      },
      "source": [
        "#import classification_report\n",
        "from sklearn.metrics import classification_report\n",
        "print(classification_report(y_test,predictions))"
      ],
      "execution_count": null,
      "outputs": []
    },
    {
      "cell_type": "markdown",
      "metadata": {
        "id": "YtYNFoJh0LU-"
      },
      "source": [
        "### **Car Evaluation Dataset**"
      ]
    },
    {
      "cell_type": "code",
      "metadata": {
        "id": "RsBukCMi4UjJ"
      },
      "source": [
        "# Upload the Car evaluation data CSV file that has been shared with you.\n",
        "# Run this cell, click on the 'Choose files' button and upload the file.\n",
        "from google.colab import files\n",
        "uploaded = files.upload()"
      ],
      "execution_count": null,
      "outputs": []
    },
    {
      "cell_type": "code",
      "metadata": {
        "id": "0T5yvzVH4jrQ"
      },
      "source": [
        "car_df = pd.read_csv('car_evaluation.csv')\n",
        "car_df"
      ],
      "execution_count": null,
      "outputs": []
    },
    {
      "cell_type": "code",
      "metadata": {
        "id": "qwjBankjB9Os"
      },
      "source": [
        "for x in car_df.columns:\n",
        "  # print(x)\n",
        "  le = preprocessing.LabelEncoder()\n",
        "  le.fit(car_df[x])\n",
        "  car_df[x]=le.transform(car_df[x])\n",
        "\n",
        "car_df"
      ],
      "execution_count": null,
      "outputs": []
    },
    {
      "cell_type": "code",
      "metadata": {
        "id": "W5Klx4yMCgKa"
      },
      "source": [
        "dataset = car_df.values\n",
        "X = dataset[:,0:6]\n",
        "y = np.array(dataset[:,6])\n",
        "X_train, X_test, y_train, y_test = train_test_split(X, y, test_size=0.2, random_state=19)"
      ],
      "execution_count": null,
      "outputs": []
    },
    {
      "cell_type": "code",
      "metadata": {
        "id": "1HL5ufCHDANh"
      },
      "source": [
        "knn = KNeighborsClassifier(n_neighbors=5)\n",
        "knn.fit(X_train, y_train)\n",
        "predictions = knn.predict(X_test)\n",
        "score = accuracy_score(y_test, predictions)\n",
        "print(\"The accuracy of the classifier on Car evaluation dataset is {:.2f} %\".format(100*score))"
      ],
      "execution_count": null,
      "outputs": []
    },
    {
      "cell_type": "code",
      "metadata": {
        "id": "WYCimUC_A56C"
      },
      "source": [
        "## TASK-3\n",
        "## Plot a Confusion Matrix for the results of the Car evaluation dataset"
      ],
      "execution_count": null,
      "outputs": []
    },
    {
      "cell_type": "code",
      "source": [
        "##ANSWER FOR 3RD TASK\n"
      ],
      "metadata": {
        "id": "L5BZY-RcqA8k"
      },
      "execution_count": null,
      "outputs": []
    },
    {
      "cell_type": "code",
      "source": [
        "from sklearn import metrics\n",
        "\n",
        "cnf_matrix = metrics.confusion_matrix(y_test, predictions)\n",
        "p = sns.heatmap(pd.DataFrame(cnf_matrix),annot=True,cmap=\"viridis\",fmt='g')\n",
        "plt.title('Confusion matrix', y=1.1)\n",
        "plt.ylabel('Actual label')\n",
        "plt.xlabel('Predicted label')"
      ],
      "metadata": {
        "id": "_9VAxb2xp5nw"
      },
      "execution_count": null,
      "outputs": []
    },
    {
      "cell_type": "code",
      "source": [
        "confusion_matrix(y_test,predictions)"
      ],
      "metadata": {
        "id": "b0DJZ16yqJ6X"
      },
      "execution_count": null,
      "outputs": []
    },
    {
      "cell_type": "code",
      "metadata": {
        "id": "a8TRknp0XTqJ"
      },
      "source": [
        "## TASK-4\n",
        "## Print a Classification Report for the results of the Car evaluation dataset"
      ],
      "execution_count": null,
      "outputs": []
    },
    {
      "cell_type": "code",
      "source": [
        "##ANSWER FOR 4TH TASK\n"
      ],
      "metadata": {
        "id": "FYs7DkUQqT7c"
      },
      "execution_count": null,
      "outputs": []
    },
    {
      "cell_type": "code",
      "source": [
        "#import classification_report\n",
        "from sklearn.metrics import classification_report\n",
        "print(classification_report(y_test,predictions))"
      ],
      "metadata": {
        "id": "jOTDWCntqHGv"
      },
      "execution_count": null,
      "outputs": []
    },
    {
      "cell_type": "markdown",
      "metadata": {
        "id": "xr9dI1Kqsprz"
      },
      "source": [
        "### Questions to Think About and Answer\n",
        "1. In the section on Decision boundaries, you must have seen that we ran the KNN algorithm twice: first with the _weights_ set to 'uniform' and then set to 'distance'.\n",
        " Find out the difference between these two.\n",
        "  ANS: Uniform : All the points in each neighbourhood are weighted equally. Distance : Weight points by the inverse of their distance. in this case, closer neighbours of a query point will have a greater influence than neighbours which are further away. With uniform weighting, you do not take into account the distance between the new data point and its k-nearest neighbours. With inverse distance weighting, you assign higher weights to the closer training  \n",
        "  \n",
        "2. What do you think could be the drawbacks of using KNN ?\n",
        "\n",
        "ANS : 1.As training data increases the speed at which calculations are made rapidly decrease\n",
        "\n",
        "2.If K- value is choosen incorrectly then it will be under or overfitted to the data.*\n",
        "\n",
        "3.When majority of the data the model is being trained on represents 1 label then that label will have a high likelihood of being predicted.\n",
        "\n",
        "4.Prediction becomes slow with large data*\n",
        "\n",
        "5.Need to store all of the training data, hence requires high memory.\n",
        "\n",
        "6.It can be computationally expensive as it stores all of the training.\n",
        "\n"
      ]
    },
    {
      "cell_type": "markdown",
      "metadata": {
        "id": "TRlrn4EctZrC"
      },
      "source": [
        "### Useful Resources for further reading\n",
        "1. Interactive KNN visualization, with class boundaries: http://vision.stanford.edu/teaching/cs231n-demos/knn/  \n"
      ]
    }
  ]
}